{
 "cells": [
  {
   "cell_type": "markdown",
   "metadata": {},
   "source": [
    "# Mars Rovers\n",
    "Author: Deirdre Corr\n",
    "<br>\n",
    "Date: 05/08/2019"
   ]
  },
  {
   "cell_type": "code",
   "execution_count": null,
   "metadata": {},
   "outputs": [],
   "source": [
    "from pyllist import dllist\n",
    "from pyllist import dllistnode\n",
    "from pyllist import sllist\n",
    "from enum import Enum\n",
    "import re"
   ]
  },
  {
   "cell_type": "markdown",
   "metadata": {},
   "source": [
    "### Create Enums for cardinal and action values"
   ]
  },
  {
   "cell_type": "code",
   "execution_count": null,
   "metadata": {},
   "outputs": [],
   "source": [
    "class CardinalEnum(Enum):\n",
    "    NORTH = \"N\"\n",
    "    EAST = \"E\"\n",
    "    SOUTH = \"S\"\n",
    "    WEST = \"W\"\n",
    "        \n",
    "class ActionEnum(Enum):\n",
    "    LEFT = \"L\"\n",
    "    RIGHT = \"R\"\n",
    "    MOVE = \"M\""
   ]
  },
  {
   "cell_type": "markdown",
   "metadata": {},
   "source": [
    "### Define a looped list class\n",
    "- Extend the doubly linked list class\n",
    "- Loop forward by returning the first node as the next node of the last\n",
    "- Loop backwards by returning the last node as the previous node of the first"
   ]
  },
  {
   "cell_type": "code",
   "execution_count": null,
   "metadata": {},
   "outputs": [],
   "source": [
    "class LoopedList(dllist):\n",
    "    def __init__(self, list):\n",
    "        dllist.__init__(self, list)\n",
    "        \n",
    "    def next_node(self, node):\n",
    "        return self.first if node.next is None else node.next\n",
    "        \n",
    "    def prev_node(self, node):\n",
    "        return self.last if node.prev is None else node.prev\n",
    "    \n",
    "    #dllist has no indexof(), so create method to iterate over list \n",
    "    #to find the node for a particular cardinal value\n",
    "    def get_node(self, node_value):\n",
    "        for i in super().iternodes():\n",
    "            if i.value == node_value: return i\n",
    "        raise ValueError('Error: node doesnt exist')"
   ]
  },
  {
   "cell_type": "markdown",
   "metadata": {},
   "source": [
    "### Define robot class with x and y co-ordinates and it's cardinal direction"
   ]
  },
  {
   "cell_type": "code",
   "execution_count": null,
   "metadata": {},
   "outputs": [],
   "source": [
    "class Robot():\n",
    "    def __init__(self, x, y, direction):\n",
    "        self.x = x\n",
    "        self.y = y\n",
    "        self.direction = direction\n",
    "        \n",
    "    def print_position(self):\n",
    "        print((\"{} {} \"+ self.direction).format(self.x, self.y))\n",
    "        \n",
    "    #if action is to rotate right, use the next_node function\n",
    "    #of loopedlist to get the cardinal direction to the right\n",
    "    # if left, use prev_node to get the direction to the left\n",
    "    def rotate(self, move_left, list):\n",
    "        node = list.get_node(self.direction)\n",
    "        if move_left:\n",
    "            self.direction =  list.prev_node(node).value\n",
    "        else:\n",
    "            self.direction = list.next_node(node).value\n",
    "        \n",
    "    #increment/decrement the x/y value depending on which\n",
    "    #direction the bot is facing\n",
    "    def move(self):\n",
    "        if self.direction == CardinalEnum.NORTH.value: self.y += 1\n",
    "            \n",
    "        elif self.direction == CardinalEnum.SOUTH.value: self.y -= 1\n",
    "            \n",
    "        elif self.direction == CardinalEnum.EAST.value: self.x += 1\n",
    "            \n",
    "        elif self.direction == CardinalEnum.WEST.value: self.x -= 1\n",
    "            \n",
    "        else: raise ValueError('Error: direction is not a cardinal value')"
   ]
  },
  {
   "cell_type": "markdown",
   "metadata": {},
   "source": [
    "### Define the grid class with minimum and maximum x and y co-ordinates"
   ]
  },
  {
   "cell_type": "code",
   "execution_count": null,
   "metadata": {},
   "outputs": [],
   "source": [
    "class Grid():\n",
    "    def __init__(self, max_x, max_y):\n",
    "        self.min_x = 0\n",
    "        self.min_y = 0\n",
    "        self.max_x = max_x\n",
    "        self.max_y = max_y"
   ]
  },
  {
   "cell_type": "markdown",
   "metadata": {},
   "source": [
    "### Define Navigation\n",
    "- Loop through directions and call robot to rotate right, left or move\n",
    "- Print the robot's new position"
   ]
  },
  {
   "cell_type": "code",
   "execution_count": null,
   "metadata": {},
   "outputs": [],
   "source": [
    "def navigate(directions, robot, cardinal):\n",
    "    for dir in directions:\n",
    "        if dir == ActionEnum.LEFT.value: robot.rotate(True, cardinal)\n",
    "            \n",
    "        elif dir == ActionEnum.RIGHT.value: robot.rotate(False, cardinal)\n",
    "            \n",
    "        elif dir == ActionEnum.MOVE.value: robot.move() \n",
    "            \n",
    "        else: raise ValueError('Error: only left, right and move directions permitted')\n",
    "            \n",
    "    robot.print_position()"
   ]
  },
  {
   "cell_type": "markdown",
   "metadata": {},
   "source": [
    "### Add validation rules\n",
    "To ensure the bot doesn't exit the plateau or crash into another bot"
   ]
  },
  {
   "cell_type": "code",
   "execution_count": null,
   "metadata": {},
   "outputs": [],
   "source": [
    "def validate_position(this_robot, grid, squad):\n",
    "    if this_robot.x > grid.max_x or this_robot.y > grid.max_y or this_robot.x < grid.min_x or this_robot.y < grid.min_y:\n",
    "        raise PositionError('Error: outside of plateau boundaries')\n",
    "    \n",
    "    for member in squad:\n",
    "        if member is not this_robot and (member.x == this_robot.x and member.y == this_robot.y):\n",
    "            raise PositionError('Error: another robot is already in this position')\n",
    "            \n",
    "class PositionError(Exception):\n",
    "    #Raise when robot should not move to the intended position\n",
    "    pass"
   ]
  },
  {
   "cell_type": "markdown",
   "metadata": {},
   "source": [
    "### Read Input\n",
    "- Receive input in the form of a text file\n",
    "- Normalise each line\n",
    "- Ensure the text pattern matches allowed robot positions and actions"
   ]
  },
  {
   "cell_type": "code",
   "execution_count": null,
   "metadata": {},
   "outputs": [],
   "source": [
    "def read_input():\n",
    "    file = open(\"input.txt\", \"r\")\n",
    "    \n",
    "    grid_input = normalise_input(file.readline())\n",
    "    grid_coords = grid_input.split(' ')\n",
    "    robots = {}\n",
    "\n",
    "    for x in file:\n",
    "        x = normalise_input(x)\n",
    "        \n",
    "        if bool(re.search(ROBOT_POSITION_REGEX, x)):\n",
    "            path = normalise_input(file.readline())\n",
    "            if not bool(re.search(ROBOT_ROUTE_REGEX, path)):\n",
    "                raise ValueError('Error: only L,R,M characters permitted for route')\n",
    "            robots[x] = path\n",
    "            \n",
    "    file.close\n",
    "    return grid_coords, robots\n",
    "\n",
    "def normalise_input(line):\n",
    "    return line.upper().replace('\\n','')"
   ]
  },
  {
   "cell_type": "markdown",
   "metadata": {},
   "source": [
    "### Create robots and execute navigation\n",
    "- Validate each robot's position\n",
    "- Print final co-ordinates and orientation of each robot"
   ]
  },
  {
   "cell_type": "code",
   "execution_count": null,
   "metadata": {},
   "outputs": [],
   "source": [
    "def complete_mission():\n",
    "    grid_coords, robots = read_input()\n",
    "\n",
    "    cardinal= LoopedList([\"N\",\"E\",\"S\",\"W\"])\n",
    "    grid = Grid(int(grid_coords[0]),int(grid_coords[1]))\n",
    "    squad = sllist()\n",
    "    \n",
    "    print('Expected Output:')\n",
    "    for robot_key, path in robots.items():\n",
    "        params_list = robot_key.split(' ')\n",
    "        \n",
    "        robot = Robot(int(params_list[0]),int(params_list[1]),params_list[2])\n",
    "        validate_position(robot, grid, squad)\n",
    "        squad.append(robot)\n",
    "\n",
    "        navigate(path, robot, cardinal)\n",
    "        validate_position(robot, grid, squad)\n",
    "        \n",
    "        robot.print_position\n",
    "        \n",
    "ROBOT_POSITION_REGEX = '[0-9\\s]{2}[NSEW]{1}'\n",
    "ROBOT_ROUTE_REGEX = '^[LRM]+$'"
   ]
  },
  {
   "cell_type": "markdown",
   "metadata": {},
   "source": [
    "### Execute mission"
   ]
  },
  {
   "cell_type": "code",
   "execution_count": null,
   "metadata": {},
   "outputs": [],
   "source": [
    "complete_mission()"
   ]
  }
 ],
 "metadata": {
  "kernelspec": {
   "display_name": "Python 3",
   "language": "python",
   "name": "python3"
  },
  "language_info": {
   "codemirror_mode": {
    "name": "ipython",
    "version": 3
   },
   "file_extension": ".py",
   "mimetype": "text/x-python",
   "name": "python",
   "nbconvert_exporter": "python",
   "pygments_lexer": "ipython3",
   "version": "3.7.1"
  }
 },
 "nbformat": 4,
 "nbformat_minor": 2
}
