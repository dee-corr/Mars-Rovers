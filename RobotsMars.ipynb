{
 "cells": [
  {
   "cell_type": "markdown",
   "metadata": {},
   "source": [
    "# Robots on Mars"
   ]
  },
  {
   "cell_type": "code",
   "execution_count": 1,
   "metadata": {},
   "outputs": [],
   "source": [
    "from pyllist import dllist\n",
    "from pyllist import dllistnode\n",
    "from pyllist import sllist\n",
    "from enum import Enum"
   ]
  },
  {
   "cell_type": "markdown",
   "metadata": {},
   "source": [
    "### Create Enums for cardinal and action values"
   ]
  },
  {
   "cell_type": "code",
   "execution_count": 2,
   "metadata": {},
   "outputs": [],
   "source": [
    "class CardinalEnum(Enum):\n",
    "    NORTH = \"N\"\n",
    "    EAST = \"E\"\n",
    "    SOUTH = \"S\"\n",
    "    WEST = \"W\"\n",
    "        \n",
    "class ActionEnum(Enum):\n",
    "    LEFT = \"L\"\n",
    "    RIGHT = \"R\"\n",
    "    MOVE = \"M\""
   ]
  },
  {
   "cell_type": "markdown",
   "metadata": {},
   "source": [
    "### Define a looped list class\n",
    "- Extend the doubly linked list class\n",
    "- Loop forward by returning the first node as the next node of the last\n",
    "- Loop backwards by returning the last node as the previous node of the first"
   ]
  },
  {
   "cell_type": "code",
   "execution_count": 5,
   "metadata": {},
   "outputs": [],
   "source": [
    "class LoopedList(dllist):\n",
    "    def __init__(self, list):\n",
    "        dllist.__init__(self, list)\n",
    "        \n",
    "    def next_node(self, node):\n",
    "        return self.first if node.next is None else node.next\n",
    "        \n",
    "    def prev_node(self, node):\n",
    "        return self.last if node.prev is None else node.prev\n",
    "    \n",
    "    #dllist has no indexof() so create method to iterate over list \n",
    "    #to find the node for a particular cardinal value\n",
    "    def get_node(self, node_value):\n",
    "        for i in super().iternodes():\n",
    "            if i.value == node_value: return i\n",
    "        raise ValueError('Error: node doesnt exist')"
   ]
  },
  {
   "cell_type": "markdown",
   "metadata": {},
   "source": [
    "### Define robot class with co-ordinates and cardinal direction"
   ]
  },
  {
   "cell_type": "code",
   "execution_count": 6,
   "metadata": {},
   "outputs": [],
   "source": [
    "class Robot():\n",
    "    def __init__(self, x, y, direction):\n",
    "        self.x = x\n",
    "        self.y = y\n",
    "        self.direction = direction\n",
    "        \n",
    "    def print_position(self):\n",
    "        print((\"{} {} \"+ self.direction).format(self.x, self.y))\n",
    "        \n",
    "    #if action is to rotate right, use the next_node function\n",
    "    #of the loopedlist to get the cardinal direction to the right\n",
    "    # if left, use prev_node to get the direction to the left\n",
    "    def rotate(self, move_left):\n",
    "        node = cardinal.get_node(self.direction)\n",
    "        if move_left:\n",
    "            self.direction =  cardinal.next_node(node).value\n",
    "        else:\n",
    "            self.direction = cardinal.prev_node(node).value\n",
    "    \n",
    "    #increment/decrement the x/y value depending on which\n",
    "    #direction the bot is facing\n",
    "    def move(self):\n",
    "        if self.direction == CardinalEnum.NORTH.value: self.y += 1;\n",
    "            \n",
    "        elif self.direction == CardinalEnum.SOUTH.value: self.y -= 1;\n",
    "            \n",
    "        elif self.direction == CardinalEnum.EAST.value: self.x += 1;\n",
    "            \n",
    "        elif self.direction == CardinalEnum.WEST.value: self.x -= 1;\n",
    "            \n",
    "        else: raise ValueError('Error: direction is not a cardinal value')"
   ]
  },
  {
   "cell_type": "markdown",
   "metadata": {},
   "source": [
    "### Define the grid class with minimum and maximum x and y co-ordinates"
   ]
  },
  {
   "cell_type": "code",
   "execution_count": 7,
   "metadata": {},
   "outputs": [],
   "source": [
    "class Grid():\n",
    "    def __init__(self, max_x, max_y):\n",
    "        self.min_x = 0\n",
    "        self.min_y = 0\n",
    "        self.max_x = max_x\n",
    "        self.max_y = max_y"
   ]
  },
  {
   "cell_type": "markdown",
   "metadata": {},
   "source": [
    "### Loop through directions and call robot to rotate right or left or move"
   ]
  },
  {
   "cell_type": "code",
   "execution_count": 13,
   "metadata": {},
   "outputs": [],
   "source": [
    "def navigate(directions, robot):\n",
    "    for dir in directions:\n",
    "        if dir == ActionEnum.LEFT.value: robot.rotate(True)\n",
    "            \n",
    "        elif dir == ActionEnum.RIGHT.value: robot.rotate(False)\n",
    "            \n",
    "        elif dir == ActionEnum.MOVE.value:\n",
    "            validatePosition(robot)\n",
    "            robot.move()\n",
    "            \n",
    "        else: raise ValueError('Error: only left, right and move directions permitted')\n",
    "            \n",
    "    robot.print_position()"
   ]
  },
  {
   "cell_type": "markdown",
   "metadata": {},
   "source": [
    "### Add validation to ensure the bot doesn't exit the plateau or crash into another bot"
   ]
  },
  {
   "cell_type": "code",
   "execution_count": 8,
   "metadata": {},
   "outputs": [],
   "source": [
    "def validatePosition(this_robot):\n",
    "    if this_robot.x > grid.max_x or this_robot.y > grid.max_y or this_robot.x < grid.min_x or this_robot.y < grid.min_y:\n",
    "        raise PositionError('Error: outside of plateau boundaries')\n",
    "    \n",
    "    for member in squad:\n",
    "        if member is not this_robot and (member.x == this_robot.x and member.y == this_robot.y):\n",
    "            raise PositionError('Error: another robot is already in this position')\n",
    "            \n",
    "class PositionError(Exception):\n",
    "    '''Raise when robot should not move to the intended position'''\n",
    "    pass"
   ]
  },
  {
   "cell_type": "markdown",
   "metadata": {},
   "source": [
    "### Define method for adding a robot\n",
    "- Validate it's initial position\n",
    "- Add bot to squad\n",
    "- Print position"
   ]
  },
  {
   "cell_type": "code",
   "execution_count": 9,
   "metadata": {},
   "outputs": [],
   "source": [
    "def AddRobot(x, y, direction):\n",
    "    robot = Robot(x, y, direction)\n",
    "    validatePosition(robot)\n",
    "    squad.append(robot)\n",
    "    robot.print_position()\n",
    "    return robot"
   ]
  },
  {
   "cell_type": "markdown",
   "metadata": {},
   "source": [
    "### Create robots and execute navigation"
   ]
  },
  {
   "cell_type": "code",
   "execution_count": 23,
   "metadata": {},
   "outputs": [],
   "source": [
    "def begin_mission():\n",
    "    robot1 = AddRobot(1,2,\"N\")\n",
    "    robot2 = AddRobot(3,3,\"E\")\n",
    "    \n",
    "    navigate('LMLMLMLMM',robot1)   \n",
    "    navigate('MMRMMRMRRM',robot2)"
   ]
  },
  {
   "cell_type": "markdown",
   "metadata": {},
   "source": [
    "### Initialise objects and call begin_mission\n",
    "- Create cardinal looped list, grid and empty squad\n",
    "- Commence mission"
   ]
  },
  {
   "cell_type": "code",
   "execution_count": 15,
   "metadata": {},
   "outputs": [
    {
     "name": "stdout",
     "output_type": "stream",
     "text": [
      "1 2 N\n",
      "3 3 E\n",
      "1 3 N\n",
      "5 5 E\n"
     ]
    }
   ],
   "source": [
    "cardinal = LoopedList([\"N\",\"E\",\"S\",\"W\"])\n",
    "grid = Grid(5,5)\n",
    "squad = sllist()\n",
    "\n",
    "begin_mission()"
   ]
  }
 ],
 "metadata": {
  "kernelspec": {
   "display_name": "Python 3",
   "language": "python",
   "name": "python3"
  },
  "language_info": {
   "codemirror_mode": {
    "name": "ipython",
    "version": 3
   },
   "file_extension": ".py",
   "mimetype": "text/x-python",
   "name": "python",
   "nbconvert_exporter": "python",
   "pygments_lexer": "ipython3",
   "version": "3.7.1"
  }
 },
 "nbformat": 4,
 "nbformat_minor": 2
}
