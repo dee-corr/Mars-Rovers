{
 "cells": [
  {
   "cell_type": "code",
   "execution_count": 279,
   "metadata": {},
   "outputs": [
    {
     "name": "stdout",
     "output_type": "stream",
     "text": [
      "1 2 N\n",
      "1 3 N\n",
      "3 3 E\n",
      "5 1 E\n"
     ]
    }
   ],
   "source": [
    "from pyllist import dllist\n",
    "from pyllist import dllistnode\n",
    "\n",
    "class LoopedList(dllist):\n",
    "    \n",
    "    def __init__(self, list):\n",
    "        dllist.__init__(self, list)\n",
    "        \n",
    "    def next_node(self, node):\n",
    "        return self.first if node.next is None else node.next\n",
    "        \n",
    "    def prev_node(self, node):\n",
    "        return self.last if node.prev is None else node.prev\n",
    "        \n",
    "    def find_node_position(self, position):\n",
    "        for i in super().iternodes():\n",
    "            if i.value == position: return i\n",
    "        \n",
    "class Robot():\n",
    "    def __init__(self, x, y, direction):\n",
    "        self.x = x\n",
    "        self.y = y\n",
    "        self.direction = direction\n",
    "        \n",
    "    def print_position(self):\n",
    "        print((\"{} {} \"+ self.direction).format(self.x, self.y))\n",
    "        \n",
    "    def rotate(self, move_right):\n",
    "        node = orientation.find_node_position(self.direction)\n",
    "        if move_right:\n",
    "            self.direction =  cardinal.next_node(node).value\n",
    "        else:\n",
    "            self.direction = cardinal.prev_node(node).value\n",
    "            \n",
    "    def move(self):\n",
    "        if self.direction == \"N\": self.y += 1;\n",
    "            \n",
    "        elif self.direction == \"S\": self.y -= 1;\n",
    "            \n",
    "        elif self.direction == \"E\": self.x += 1;\n",
    "            \n",
    "        elif self.direction == \"W\": self.x -= 1;\n",
    "            \n",
    "        else: print(error)\n",
    "            \n",
    "def navigate(directions, robot):\n",
    "    for dir in directions:\n",
    "        if dir == \"L\": robot.rotate(False)\n",
    "            \n",
    "        elif dir == \"R\": robot.rotate(True)\n",
    "            \n",
    "        elif dir == \"M\": robot.move()\n",
    "    robot.print_position()\n",
    "    \n",
    "\n",
    "cardinal = LoopedList([\"N\",\"E\",\"S\",\"W\"])\n",
    "\n",
    "robot = Robot(1,2,\"N\")\n",
    "robot.print_position()\n",
    "\n",
    "path = 'LMLMLMLMM';\n",
    "            \n",
    "navigate(path,robot)\n",
    "\n",
    "robot2 = Robot(3,3,\"E\")\n",
    "robot2.print_position()\n",
    "\n",
    "path = 'MMRMMRMRRM';\n",
    "            \n",
    "navigate(path,robot2)"
   ]
  },
  {
   "cell_type": "code",
   "execution_count": null,
   "metadata": {},
   "outputs": [],
   "source": []
  }
 ],
 "metadata": {
  "kernelspec": {
   "display_name": "Python 3",
   "language": "python",
   "name": "python3"
  },
  "language_info": {
   "codemirror_mode": {
    "name": "ipython",
    "version": 3
   },
   "file_extension": ".py",
   "mimetype": "text/x-python",
   "name": "python",
   "nbconvert_exporter": "python",
   "pygments_lexer": "ipython3",
   "version": "3.7.1"
  }
 },
 "nbformat": 4,
 "nbformat_minor": 2
}
